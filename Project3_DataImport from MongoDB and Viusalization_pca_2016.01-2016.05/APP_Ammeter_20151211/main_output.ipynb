{
 "cells": [
  {
   "cell_type": "code",
   "execution_count": 8,
   "metadata": {
    "collapsed": false
   },
   "outputs": [
    {
     "name": "stdout",
     "output_type": "stream",
     "text": [
      "\n",
      "The raw csv dataset includes 47 fields sepecified in t_fields, k_fields\n",
      "and other_fields. Each field in t_fields represents the temperature of\n",
      "a ammeter at a time point, and the same goes to k_fields and v_fields.\n",
      "In this case, temperature, power and voltage at twelve time points are\n",
      "sampled for analysis.\n",
      "\n",
      "Principal Component Analysis (PCA) applied to this data identifies the\n",
      "combination of attributes (principal components, or directions in the\n",
      "feature space) that account for the most variance in the data.\n",
      "\n",
      "Fig <PCA - Temperature>, we plot the tempature samples on the 2 first principal components.\n",
      "Fig <PCA - Power>, we plot the power samples on the 2 first principal components.\n",
      "Fig <PCA - Voltage>, we plot the voltage samples on the 2 first principal components.\n",
      "Fig <PCA - Temperature, Power and Voltage>. Both temperature, power and voltage at certain time point are sampled for plotting.\n",
      "\n",
      "pca.explained_variance_ratio_ [ 0.91393912  0.0368596 ]\n",
      "pca.explained_variance_ratio_ [ 0.52553667  0.17848864]\n",
      "pca.explained_variance_ratio_ [ 0.71374016  0.11716735]\n"
     ]
    }
   ],
   "source": [
    "'''\n",
    "The raw csv dataset includes 47 fields sepecified in t_fields, k_fields\n",
    "and other_fields. Each field in t_fields represents the temperature of\n",
    "a ammeter at a time point, and the same goes to k_fields and v_fields.\n",
    "In this case, temperature, power and voltage at twelve time points are\n",
    "sampled for analysis.\n",
    "\n",
    "Principal Component Analysis (PCA) applied to this data identifies the\n",
    "combination of attributes (principal components, or directions in the\n",
    "feature space) that account for the most variance in the data.\n",
    "\n",
    "Fig <PCA - Temperature>, we plot the tempature samples on the 2 first principal components.\n",
    "Fig <PCA - Power>, we plot the power samples on the 2 first principal components.\n",
    "Fig <PCA - Voltage>, we plot the voltage samples on the 2 first principal components.\n",
    "Fig <PCA - Temperature, Power and Voltage>. Both temperature, power and voltage at certain time point are sampled for plotting.\n",
    "'''\n",
    "\n",
    "print(__doc__)\n",
    "\n",
    "from sklearn.decomposition import PCA, KernelPCA\n",
    "import pandas as pd\n",
    "import numpy as np\n",
    "import matplotlib.pyplot as plt\n",
    "\n",
    "def do_pca(d, n):\n",
    "    pca = PCA(n_components=n)\n",
    "    X = pca.fit_transform(d)\n",
    "    print 'pca.explained_variance_ratio_', pca.explained_variance_ratio_\n",
    "    return X\n",
    "\n",
    "def draw(df, title):\n",
    "    color = '#5cb85c'\n",
    "    plt.figure()\n",
    "    plt.title(title)\n",
    "    plt.scatter(df['x'], df['y'], c=color)\n",
    "    plt.show()\n",
    "\n",
    "# temperture t0, t1, ... t1\n",
    "t_fields = ['t' + str(i) for i in xrange(0, 12)]\n",
    "# kwh k0, k1, ... k11\n",
    "k_fields = ['k' + str(i) for i in xrange(0, 12)]\n",
    "# voltage v0, v1, ... v11\n",
    "v_fields = ['v' + str(i) for i in xrange(0, 12)]\n",
    "# other fields\n",
    "other_fields = ['meter', 'year', 'month', 'day', 'town', 'amiModel']\n",
    "all_fields = other_fields + t_fields + k_fields + v_fields\n",
    "\n",
    "csv1000_filename = 'output_1000.csv'\n",
    "csv10000_filename = 'output_10000.csv'\n",
    "csv_filename = 'output.csv'\n",
    "raw_df = pd.read_csv(csv1000_filename)\n",
    "\n",
    "tx = raw_df[t_fields].values\n",
    "tx_pca = do_pca(tx, 2)\n",
    "tx_pca_df = pd.DataFrame({'x': tx_pca[:, 0], 'y': tx_pca[:, 1]})\n",
    "draw(tx_pca_df, 'PCA - Tempature')\n",
    "\n",
    "kx = raw_df[k_fields].values\n",
    "kx_pca = do_pca(kx, 2)\n",
    "kx_pca_df = pd.DataFrame({'x': kx_pca[:, 0], 'y': kx_pca[:, 1]})\n",
    "draw(kx_pca_df, 'PCA - Power')\n",
    "\n",
    "vx = raw_df[v_fields].values\n",
    "vx_pca = do_pca(vx, 2)\n",
    "vx_pca_df = pd.DataFrame({'x': vx_pca[:, 0], 'y': vx_pca[:, 1]})\n",
    "draw(vx_pca_df, 'PCA - Voltage')\n",
    "\n",
    "# x = raw_df[['t0', 'k0']].values\n",
    "# x_pca = do_pca(x, 2)\n",
    "# x_pca_df = pd.DataFrame({'x': x_pca[:, 0], 'y': x_pca[:, 1]})\n",
    "# draw(x_pca_df, 'PCA - Tempature, Power and Voltage')"
   ]
  },
  {
   "cell_type": "code",
   "execution_count": 7,
   "metadata": {
    "collapsed": false
   },
   "outputs": [
    {
     "data": {
      "text/plain": [
       "<matplotlib.figure.Figure at 0x28e23f0>"
      ]
     },
     "execution_count": 7,
     "metadata": {},
     "output_type": "execute_result"
    }
   ],
   "source": [
    "import matplotlib.pyplot as plt\n",
    "plt.figure()"
   ]
  }
 ],
 "metadata": {
  "kernelspec": {
   "display_name": "Python 2",
   "language": "python",
   "name": "python2"
  },
  "language_info": {
   "codemirror_mode": {
    "name": "ipython",
    "version": 2
   },
   "file_extension": ".py",
   "mimetype": "text/x-python",
   "name": "python",
   "nbconvert_exporter": "python",
   "pygments_lexer": "ipython2",
   "version": "2.7.10"
  }
 },
 "nbformat": 4,
 "nbformat_minor": 0
}
